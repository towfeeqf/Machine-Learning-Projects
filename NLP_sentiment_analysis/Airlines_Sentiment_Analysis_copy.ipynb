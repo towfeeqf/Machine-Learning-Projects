{
  "cells": [
    {
      "cell_type": "code",
      "execution_count": null,
      "metadata": {
        "id": "2Psqnwju5rfA"
      },
      "outputs": [],
      "source": [
        "import numpy as np\n",
        "import pandas as pd\n",
        "import os\n",
        "import re\n",
        "import nltk\n",
        "import matplotlib.pyplot as plt\n",
        "%matplotlib inline"
      ]
    },
    {
      "cell_type": "code",
      "execution_count": null,
      "metadata": {
        "id": "6BY2NMbe5rfB"
      },
      "outputs": [],
      "source": [
        "DATA_PATH=os.path.join(\"datasets\",\"tweets_folder\")\n",
        "\n",
        "def load_data(data_path=DATA_PATH):\n",
        "    tweets_path = os.path.join(DATA_PATH, \"Tweets.csv\")\n",
        "    return pd.read_csv(tweets_path)\n"
      ]
    },
    {
      "cell_type": "code",
      "execution_count": null,
      "metadata": {
        "id": "gL7a3QZT5rfB",
        "outputId": "5bc9d2cf-3092-46f1-fde9-a8f2ba98ef1d"
      },
      "outputs": [
        {
          "data": {
            "text/html": [
              "<div>\n",
              "<style scoped>\n",
              "    .dataframe tbody tr th:only-of-type {\n",
              "        vertical-align: middle;\n",
              "    }\n",
              "\n",
              "    .dataframe tbody tr th {\n",
              "        vertical-align: top;\n",
              "    }\n",
              "\n",
              "    .dataframe thead th {\n",
              "        text-align: right;\n",
              "    }\n",
              "</style>\n",
              "<table border=\"1\" class=\"dataframe\">\n",
              "  <thead>\n",
              "    <tr style=\"text-align: right;\">\n",
              "      <th></th>\n",
              "      <th>tweet_id</th>\n",
              "      <th>airline_sentiment</th>\n",
              "      <th>airline_sentiment_confidence</th>\n",
              "      <th>negativereason</th>\n",
              "      <th>negativereason_confidence</th>\n",
              "      <th>airline</th>\n",
              "      <th>airline_sentiment_gold</th>\n",
              "      <th>name</th>\n",
              "      <th>negativereason_gold</th>\n",
              "      <th>retweet_count</th>\n",
              "      <th>text</th>\n",
              "      <th>tweet_coord</th>\n",
              "      <th>tweet_created</th>\n",
              "      <th>tweet_location</th>\n",
              "      <th>user_timezone</th>\n",
              "    </tr>\n",
              "  </thead>\n",
              "  <tbody>\n",
              "    <tr>\n",
              "      <th>0</th>\n",
              "      <td>570306133677760513</td>\n",
              "      <td>neutral</td>\n",
              "      <td>1.0000</td>\n",
              "      <td>NaN</td>\n",
              "      <td>NaN</td>\n",
              "      <td>Virgin America</td>\n",
              "      <td>NaN</td>\n",
              "      <td>cairdin</td>\n",
              "      <td>NaN</td>\n",
              "      <td>0</td>\n",
              "      <td>@VirginAmerica What @dhepburn said.</td>\n",
              "      <td>NaN</td>\n",
              "      <td>2015-02-24 11:35:52 -0800</td>\n",
              "      <td>NaN</td>\n",
              "      <td>Eastern Time (US &amp; Canada)</td>\n",
              "    </tr>\n",
              "    <tr>\n",
              "      <th>1</th>\n",
              "      <td>570301130888122368</td>\n",
              "      <td>positive</td>\n",
              "      <td>0.3486</td>\n",
              "      <td>NaN</td>\n",
              "      <td>0.0000</td>\n",
              "      <td>Virgin America</td>\n",
              "      <td>NaN</td>\n",
              "      <td>jnardino</td>\n",
              "      <td>NaN</td>\n",
              "      <td>0</td>\n",
              "      <td>@VirginAmerica plus you've added commercials t...</td>\n",
              "      <td>NaN</td>\n",
              "      <td>2015-02-24 11:15:59 -0800</td>\n",
              "      <td>NaN</td>\n",
              "      <td>Pacific Time (US &amp; Canada)</td>\n",
              "    </tr>\n",
              "    <tr>\n",
              "      <th>2</th>\n",
              "      <td>570301083672813571</td>\n",
              "      <td>neutral</td>\n",
              "      <td>0.6837</td>\n",
              "      <td>NaN</td>\n",
              "      <td>NaN</td>\n",
              "      <td>Virgin America</td>\n",
              "      <td>NaN</td>\n",
              "      <td>yvonnalynn</td>\n",
              "      <td>NaN</td>\n",
              "      <td>0</td>\n",
              "      <td>@VirginAmerica I didn't today... Must mean I n...</td>\n",
              "      <td>NaN</td>\n",
              "      <td>2015-02-24 11:15:48 -0800</td>\n",
              "      <td>Lets Play</td>\n",
              "      <td>Central Time (US &amp; Canada)</td>\n",
              "    </tr>\n",
              "    <tr>\n",
              "      <th>3</th>\n",
              "      <td>570301031407624196</td>\n",
              "      <td>negative</td>\n",
              "      <td>1.0000</td>\n",
              "      <td>Bad Flight</td>\n",
              "      <td>0.7033</td>\n",
              "      <td>Virgin America</td>\n",
              "      <td>NaN</td>\n",
              "      <td>jnardino</td>\n",
              "      <td>NaN</td>\n",
              "      <td>0</td>\n",
              "      <td>@VirginAmerica it's really aggressive to blast...</td>\n",
              "      <td>NaN</td>\n",
              "      <td>2015-02-24 11:15:36 -0800</td>\n",
              "      <td>NaN</td>\n",
              "      <td>Pacific Time (US &amp; Canada)</td>\n",
              "    </tr>\n",
              "    <tr>\n",
              "      <th>4</th>\n",
              "      <td>570300817074462722</td>\n",
              "      <td>negative</td>\n",
              "      <td>1.0000</td>\n",
              "      <td>Can't Tell</td>\n",
              "      <td>1.0000</td>\n",
              "      <td>Virgin America</td>\n",
              "      <td>NaN</td>\n",
              "      <td>jnardino</td>\n",
              "      <td>NaN</td>\n",
              "      <td>0</td>\n",
              "      <td>@VirginAmerica and it's a really big bad thing...</td>\n",
              "      <td>NaN</td>\n",
              "      <td>2015-02-24 11:14:45 -0800</td>\n",
              "      <td>NaN</td>\n",
              "      <td>Pacific Time (US &amp; Canada)</td>\n",
              "    </tr>\n",
              "  </tbody>\n",
              "</table>\n",
              "</div>"
            ],
            "text/plain": [
              "             tweet_id airline_sentiment  airline_sentiment_confidence  \\\n",
              "0  570306133677760513           neutral                        1.0000   \n",
              "1  570301130888122368          positive                        0.3486   \n",
              "2  570301083672813571           neutral                        0.6837   \n",
              "3  570301031407624196          negative                        1.0000   \n",
              "4  570300817074462722          negative                        1.0000   \n",
              "\n",
              "  negativereason  negativereason_confidence         airline  \\\n",
              "0            NaN                        NaN  Virgin America   \n",
              "1            NaN                     0.0000  Virgin America   \n",
              "2            NaN                        NaN  Virgin America   \n",
              "3     Bad Flight                     0.7033  Virgin America   \n",
              "4     Can't Tell                     1.0000  Virgin America   \n",
              "\n",
              "  airline_sentiment_gold        name negativereason_gold  retweet_count  \\\n",
              "0                    NaN     cairdin                 NaN              0   \n",
              "1                    NaN    jnardino                 NaN              0   \n",
              "2                    NaN  yvonnalynn                 NaN              0   \n",
              "3                    NaN    jnardino                 NaN              0   \n",
              "4                    NaN    jnardino                 NaN              0   \n",
              "\n",
              "                                                text tweet_coord  \\\n",
              "0                @VirginAmerica What @dhepburn said.         NaN   \n",
              "1  @VirginAmerica plus you've added commercials t...         NaN   \n",
              "2  @VirginAmerica I didn't today... Must mean I n...         NaN   \n",
              "3  @VirginAmerica it's really aggressive to blast...         NaN   \n",
              "4  @VirginAmerica and it's a really big bad thing...         NaN   \n",
              "\n",
              "               tweet_created tweet_location               user_timezone  \n",
              "0  2015-02-24 11:35:52 -0800            NaN  Eastern Time (US & Canada)  \n",
              "1  2015-02-24 11:15:59 -0800            NaN  Pacific Time (US & Canada)  \n",
              "2  2015-02-24 11:15:48 -0800      Lets Play  Central Time (US & Canada)  \n",
              "3  2015-02-24 11:15:36 -0800            NaN  Pacific Time (US & Canada)  \n",
              "4  2015-02-24 11:14:45 -0800            NaN  Pacific Time (US & Canada)  "
            ]
          },
          "execution_count": 3,
          "metadata": {},
          "output_type": "execute_result"
        }
      ],
      "source": [
        "airline_tweets = load_data()\n",
        "airline_tweets.head()"
      ]
    },
    {
      "cell_type": "code",
      "execution_count": null,
      "metadata": {
        "id": "Z3uT_A385rfC",
        "outputId": "5ca6343b-bb18-4ac5-facc-06398e062e68"
      },
      "outputs": [
        {
          "name": "stdout",
          "output_type": "stream",
          "text": [
            "<class 'pandas.core.frame.DataFrame'>\n",
            "RangeIndex: 14640 entries, 0 to 14639\n",
            "Data columns (total 15 columns):\n",
            "tweet_id                        14640 non-null int64\n",
            "airline_sentiment               14640 non-null object\n",
            "airline_sentiment_confidence    14640 non-null float64\n",
            "negativereason                  9178 non-null object\n",
            "negativereason_confidence       10522 non-null float64\n",
            "airline                         14640 non-null object\n",
            "airline_sentiment_gold          40 non-null object\n",
            "name                            14640 non-null object\n",
            "negativereason_gold             32 non-null object\n",
            "retweet_count                   14640 non-null int64\n",
            "text                            14640 non-null object\n",
            "tweet_coord                     1019 non-null object\n",
            "tweet_created                   14640 non-null object\n",
            "tweet_location                  9907 non-null object\n",
            "user_timezone                   9820 non-null object\n",
            "dtypes: float64(2), int64(2), object(11)\n",
            "memory usage: 1.7+ MB\n"
          ]
        }
      ],
      "source": [
        "airline_tweets.info()"
      ]
    },
    {
      "cell_type": "code",
      "execution_count": null,
      "metadata": {
        "id": "rj9d5HPY5rfC"
      },
      "outputs": [],
      "source": [
        "# Data Plotting for data exploration"
      ]
    },
    {
      "cell_type": "code",
      "execution_count": null,
      "metadata": {
        "id": "oAX6Fdmy5rfC",
        "outputId": "0c48aca6-1dda-4735-a5b1-eb9b68bee64a"
      },
      "outputs": [
        {
          "data": {
            "text/plain": [
              "United            3822\n",
              "US Airways        2913\n",
              "American          2759\n",
              "Southwest         2420\n",
              "Delta             2222\n",
              "Virgin America     504\n",
              "Name: airline, dtype: int64"
            ]
          },
          "execution_count": 6,
          "metadata": {},
          "output_type": "execute_result"
        }
      ],
      "source": [
        "airline_tweets.airline.value_counts()"
      ]
    },
    {
      "cell_type": "code",
      "execution_count": null,
      "metadata": {
        "id": "Otx4HELr5rfC",
        "outputId": "604a0680-7e46-4566-8e10-b6605f0705cd"
      },
      "outputs": [
        {
          "data": {
            "image/png": "[encoded data removed]",
            "text/plain": [
              "<Figure size 720x576 with 1 Axes>"
            ]
          },
          "metadata": {},
          "output_type": "display_data"
        }
      ],
      "source": [
        "airline_tweets.airline.value_counts().plot(kind='pie',autopct='%1.0f%%',figsize=(10,8))\n",
        "plt.show()\n"
      ]
    },
    {
      "cell_type": "code",
      "execution_count": null,
      "metadata": {
        "id": "uxBBuQkJ5rfC",
        "outputId": "a403b90e-deff-4a01-fac5-af655b7a1002"
      },
      "outputs": [
        {
          "data": {
            "text/plain": [
              "negative    9178\n",
              "neutral     3099\n",
              "positive    2363\n",
              "Name: airline_sentiment, dtype: int64"
            ]
          },
          "execution_count": 8,
          "metadata": {},
          "output_type": "execute_result"
        }
      ],
      "source": [
        "airline_tweets.airline_sentiment.value_counts()"
      ]
    },
    {
      "cell_type": "code",
      "execution_count": null,
      "metadata": {
        "id": "q64RVPp75rfD",
        "outputId": "022dfaf3-bb3b-4770-ed16-e5d640e9839a"
      },
      "outputs": [
        {
          "data": {
            "image/png": "[encoded data removed]",
            "text/plain": [
              "<Figure size 720x576 with 1 Axes>"
            ]
          },
          "metadata": {},
          "output_type": "display_data"
        }
      ],
      "source": [
        "airline_tweets.airline_sentiment.value_counts().plot(kind=\"pie\",autopct='%1.0f%%',colors=[\"red\",\"yellow\",\"green\"],figsize=(10,8))\n",
        "plt.show()"
      ]
    },
    {
      "cell_type": "code",
      "execution_count": null,
      "metadata": {
        "id": "IX-JUWQI5rfD"
      },
      "outputs": [],
      "source": [
        "# we can see that the majority of the tweets were negative (63%) followed by neutral(21%) and the remaining are positive(16%)"
      ]
    },
    {
      "cell_type": "code",
      "execution_count": null,
      "metadata": {
        "id": "fD5BSUoY5rfD"
      },
      "outputs": [],
      "source": [
        "# Now lets see the distrubution of individual flights"
      ]
    },
    {
      "cell_type": "code",
      "execution_count": null,
      "metadata": {
        "id": "y2hlk4rv5rfD",
        "outputId": "f1d50b4a-55eb-4f79-c0b1-da331c00a0b2"
      },
      "outputs": [
        {
          "data": {
            "text/plain": [
              "airline         airline_sentiment\n",
              "American        negative             1960\n",
              "                neutral               463\n",
              "                positive              336\n",
              "Delta           negative              955\n",
              "                neutral               723\n",
              "                positive              544\n",
              "Southwest       negative             1186\n",
              "                neutral               664\n",
              "                positive              570\n",
              "US Airways      negative             2263\n",
              "                neutral               381\n",
              "                positive              269\n",
              "United          negative             2633\n",
              "                neutral               697\n",
              "                positive              492\n",
              "Virgin America  negative              181\n",
              "                neutral               171\n",
              "                positive              152\n",
              "Name: airline_sentiment, dtype: int64"
            ]
          },
          "execution_count": 12,
          "metadata": {},
          "output_type": "execute_result"
        }
      ],
      "source": [
        "airline_sentiment2 =airline_tweets.groupby(['airline','airline_sentiment']).airline_sentiment.count()\n",
        "airline_sentiment2"
      ]
    },
    {
      "cell_type": "code",
      "execution_count": null,
      "metadata": {
        "id": "QPtR0Wl45rfD",
        "outputId": "611df417-7fa4-42ce-e18c-dbd44c3bfd01"
      },
      "outputs": [
        {
          "data": {
            "text/html": [
              "<div>\n",
              "<style scoped>\n",
              "    .dataframe tbody tr th:only-of-type {\n",
              "        vertical-align: middle;\n",
              "    }\n",
              "\n",
              "    .dataframe tbody tr th {\n",
              "        vertical-align: top;\n",
              "    }\n",
              "\n",
              "    .dataframe thead th {\n",
              "        text-align: right;\n",
              "    }\n",
              "</style>\n",
              "<table border=\"1\" class=\"dataframe\">\n",
              "  <thead>\n",
              "    <tr style=\"text-align: right;\">\n",
              "      <th>airline_sentiment</th>\n",
              "      <th>negative</th>\n",
              "      <th>neutral</th>\n",
              "      <th>positive</th>\n",
              "    </tr>\n",
              "    <tr>\n",
              "      <th>airline</th>\n",
              "      <th></th>\n",
              "      <th></th>\n",
              "      <th></th>\n",
              "    </tr>\n",
              "  </thead>\n",
              "  <tbody>\n",
              "    <tr>\n",
              "      <th>American</th>\n",
              "      <td>1960</td>\n",
              "      <td>463</td>\n",
              "      <td>336</td>\n",
              "    </tr>\n",
              "    <tr>\n",
              "      <th>Delta</th>\n",
              "      <td>955</td>\n",
              "      <td>723</td>\n",
              "      <td>544</td>\n",
              "    </tr>\n",
              "    <tr>\n",
              "      <th>Southwest</th>\n",
              "      <td>1186</td>\n",
              "      <td>664</td>\n",
              "      <td>570</td>\n",
              "    </tr>\n",
              "    <tr>\n",
              "      <th>US Airways</th>\n",
              "      <td>2263</td>\n",
              "      <td>381</td>\n",
              "      <td>269</td>\n",
              "    </tr>\n",
              "    <tr>\n",
              "      <th>United</th>\n",
              "      <td>2633</td>\n",
              "      <td>697</td>\n",
              "      <td>492</td>\n",
              "    </tr>\n",
              "    <tr>\n",
              "      <th>Virgin America</th>\n",
              "      <td>181</td>\n",
              "      <td>171</td>\n",
              "      <td>152</td>\n",
              "    </tr>\n",
              "  </tbody>\n",
              "</table>\n",
              "</div>"
            ],
            "text/plain": [
              "airline_sentiment  negative  neutral  positive\n",
              "airline                                       \n",
              "American               1960      463       336\n",
              "Delta                   955      723       544\n",
              "Southwest              1186      664       570\n",
              "US Airways             2263      381       269\n",
              "United                 2633      697       492\n",
              "Virgin America          181      171       152"
            ]
          },
          "execution_count": 13,
          "metadata": {},
          "output_type": "execute_result"
        }
      ],
      "source": [
        "airline_sentiment2.unstack()  #---- to stack it up---> airline_sentiment2.unstack().stack()"
      ]
    },
    {
      "cell_type": "code",
      "execution_count": null,
      "metadata": {
        "id": "NJsogQx35rfE",
        "outputId": "dfe95926-85de-4dae-d6f1-32d400e9d52a"
      },
      "outputs": [
        {
          "data": {
            "image/png": "[encoded data removed]",
            "text/plain": [
              "<Figure size 720x576 with 1 Axes>"
            ]
          },
          "metadata": {
            "needs_background": "light"
          },
          "output_type": "display_data"
        }
      ],
      "source": [
        "airline_sentiment2.unstack().plot(kind=\"bar\",figsize=(10,8),color=['blue','red','orange'],legend=True)\n",
        "plt.show()"
      ]
    },
    {
      "cell_type": "code",
      "execution_count": null,
      "metadata": {
        "id": "JF5x6zO_5rfE"
      },
      "outputs": [],
      "source": [
        "#It is evident from the output that for almost all the airlines, the majority of the tweets are negative,\n",
        "# followed by neutral and positive tweets. Virgin America is probably the only airline where the ratio\n",
        "# of the three sentiments is somewhat similar."
      ]
    },
    {
      "cell_type": "code",
      "execution_count": null,
      "metadata": {
        "id": "X9haK0az5rfE"
      },
      "outputs": [],
      "source": [
        "# Plotting the tweet confidence levels"
      ]
    },
    {
      "cell_type": "code",
      "execution_count": null,
      "metadata": {
        "id": "qv2w_7iF5rfE",
        "outputId": "066bcc43-d7a8-4546-9f05-328df6fa477b"
      },
      "outputs": [
        {
          "data": {
            "image/png": "[encoded data removed]",
            "text/plain": [
              "<Figure size 432x288 with 1 Axes>"
            ]
          },
          "metadata": {
            "needs_background": "light"
          },
          "output_type": "display_data"
        }
      ],
      "source": [
        "import seaborn as sns\n",
        "sns.barplot(x=\"airline_sentiment\",y=\"airline_sentiment_confidence\",data=airline_tweets)\n",
        "plt.show()"
      ]
    },
    {
      "cell_type": "code",
      "execution_count": null,
      "metadata": {
        "id": "0TF9fY415rfE"
      },
      "outputs": [],
      "source": [
        "# From the output, you can see that the confidence level for negative tweets is higher\n",
        "# compared to positive and neutral tweets."
      ]
    },
    {
      "cell_type": "markdown",
      "metadata": {
        "id": "Lq2Z5Gj-5rfE"
      },
      "source": [
        "# Data Cleaning"
      ]
    },
    {
      "cell_type": "code",
      "execution_count": null,
      "metadata": {
        "id": "7ZUBRmwe5rfF"
      },
      "outputs": [],
      "source": [
        "# Tweets contain many slang words and punctuation marks. the tweets need to be cleaned before they can be used for\n",
        "# training the machine learning model.\n",
        "# However, before cleaning the tweets, we can divide the dataset into feature and label sets."
      ]
    },
    {
      "cell_type": "code",
      "execution_count": null,
      "metadata": {
        "id": "qeq4_gFB5rfF"
      },
      "outputs": [],
      "source": [
        "# X= feature set consists of tweets only as we are working on the tweets data...i.e in the 11th column\n",
        "# y= Label set which consists of sentiment\n"
      ]
    },
    {
      "cell_type": "code",
      "execution_count": null,
      "metadata": {
        "id": "kmlCWnIH5rfF"
      },
      "outputs": [],
      "source": [
        "features=airline_tweets.iloc[:,10].values\n",
        "\n",
        "labels=airline_tweets.iloc[:,1].values"
      ]
    },
    {
      "cell_type": "code",
      "execution_count": null,
      "metadata": {
        "id": "d4TAo23U5rfF",
        "outputId": "a0e25af8-1653-4ed9-cef2-bfee45c503d8"
      },
      "outputs": [
        {
          "data": {
            "text/plain": [
              "array(['@VirginAmerica What @dhepburn said.',\n",
              "       \"@VirginAmerica plus you've added commercials to the experience... tacky.\",\n",
              "       \"@VirginAmerica I didn't today... Must mean I need to take another trip!\",\n",
              "       '@VirginAmerica it\\'s really aggressive to blast obnoxious \"entertainment\" in your guests\\' faces &amp; they have little recourse',\n",
              "       \"@VirginAmerica and it's a really big bad thing about it\"],\n",
              "      dtype=object)"
            ]
          },
          "execution_count": 50,
          "metadata": {},
          "output_type": "execute_result"
        }
      ],
      "source": [
        "features[:5]"
      ]
    },
    {
      "cell_type": "code",
      "execution_count": null,
      "metadata": {
        "id": "hPms61Ka5rfF",
        "outputId": "74e9e89c-d09b-4653-8d52-da88311b1ffa"
      },
      "outputs": [
        {
          "data": {
            "text/plain": [
              "array(['neutral', 'positive', 'neutral', 'negative', 'negative'],\n",
              "      dtype=object)"
            ]
          },
          "execution_count": 51,
          "metadata": {},
          "output_type": "execute_result"
        }
      ],
      "source": [
        "labels[:5]"
      ]
    },
    {
      "cell_type": "code",
      "execution_count": null,
      "metadata": {
        "id": "Q8Ci6dvQ5rfG",
        "outputId": "c0e0b693-d2ae-46b7-fa8c-6dbc62957dbf"
      },
      "outputs": [
        {
          "data": {
            "text/plain": [
              "14640"
            ]
          },
          "execution_count": 22,
          "metadata": {},
          "output_type": "execute_result"
        }
      ],
      "source": [
        "len(features)"
      ]
    },
    {
      "cell_type": "code",
      "execution_count": null,
      "metadata": {
        "id": "R4gwK4kc5rfG"
      },
      "outputs": [],
      "source": [
        "# Now , in order to clean the data, we use regular expressions\n",
        "X= features"
      ]
    },
    {
      "cell_type": "code",
      "execution_count": null,
      "metadata": {
        "id": "7PaIqZSv5rfG"
      },
      "outputs": [],
      "source": [
        "processed_features=[]\n",
        "\n",
        "for sentence in range(0,len(X)):\n",
        "    processed_feature=re.sub(r'\\W',' ',str(X[sentence])) # removes all special characters - uncle's->uncle s\n",
        "    processed_feature=re.sub(r'\\s+[a-zA-Z]\\s+',' ',processed_feature)# removes single characters - unlce s -> unlce\n",
        "    processed_feature=re.sub(r'^[a-zA-Z]\\s+',' ',processed_feature)#removes single characters from start\n",
        "    processed_feature=re.sub(r'\\s+',' ',processed_feature,flags=re.I)# replaces multiple spaces with single space\n",
        "    processed_feature=re.sub(r'^b\\s+',' ',processed_feature) # removes byte prefix 'b' left over in the process\n",
        "    processed_feature=processed_feature.lower()# change to lower case\n",
        "\n",
        "    processed_features.append(processed_feature)\n",
        "\n",
        "\n",
        "\n"
      ]
    },
    {
      "cell_type": "markdown",
      "metadata": {
        "id": "F8Zmd7jH5rfG"
      },
      "source": [
        "# Representing Text in Numeric form"
      ]
    },
    {
      "cell_type": "code",
      "execution_count": null,
      "metadata": {
        "id": "pVJ7j1cK5rfG"
      },
      "outputs": [],
      "source": [
        "# Statistical Algorithms use mathematics to train machine learning models and mathematics work on numbers\n",
        "# To work with statistical algorithms , we first need to convert the text into numerical form\n"
      ]
    },
    {
      "cell_type": "code",
      "execution_count": null,
      "metadata": {
        "id": "eIbkwmxX5rfH"
      },
      "outputs": [],
      "source": [
        "# To convert text to numbers, there are 3 methods :\n",
        "# Bag of Words and TF-IDF are two of them and we will work on these two methods."
      ]
    },
    {
      "cell_type": "code",
      "execution_count": null,
      "metadata": {
        "id": "Q_BsZCR_5rfH"
      },
      "outputs": [],
      "source": [
        "# Bag of words:\n",
        "# we have 3 text files :\n",
        "# file1= \" I like to study\", file2 =\" It was a good game\", file3 =\"I want to watch TV and then study\""
      ]
    },
    {
      "cell_type": "code",
      "execution_count": null,
      "metadata": {
        "id": "yBQuxids5rfH"
      },
      "outputs": [],
      "source": [
        "# First step is: create a vocabulary of all unique words(not repeated words)\n",
        "# for the above 3 files\n",
        "vocab= ['I', 'like','to','study','It','was','a','good','game','want','watch','TV','and','then']"
      ]
    },
    {
      "cell_type": "code",
      "execution_count": null,
      "metadata": {
        "id": "bvVVgM-n5rfH"
      },
      "outputs": [],
      "source": [
        "# Step2: convert each file into a feature vector using the vocabulary.\n",
        "# The length of each feature vector is equal to the length of the vocabulary"
      ]
    },
    {
      "cell_type": "code",
      "execution_count": null,
      "metadata": {
        "id": "rJcaYmlo5rfH"
      },
      "outputs": [],
      "source": [
        "# The frequency(number of times of occurence) of the word in the document will replace the actual word in the vocabulary\n",
        "# if vocabulary' word is not file, then that file feature vector will have a 0 value in that place"
      ]
    },
    {
      "cell_type": "code",
      "execution_count": null,
      "metadata": {
        "id": "hxcUznZ05rfH"
      },
      "outputs": [],
      "source": [
        "# for File1: the feature vector = [1,1,1,1,0,0,0,0,0,0,0,0,0,0]\n",
        "# In bag of words, each word has the same weight"
      ]
    },
    {
      "cell_type": "code",
      "execution_count": null,
      "metadata": {
        "id": "182OFLwx5rfI"
      },
      "outputs": [],
      "source": [
        "#\n",
        "\n",
        "# TF-IDF  (Term Frequency- Inverse Document Frequency):\n",
        "\n",
        "#\n",
        "# The word that occur MORE in individual file and LESS in all the files, contribute more towards classification\n",
        "# In other words, repetetive words in files, will give less weight(and so less useful) for classification.\n"
      ]
    },
    {
      "cell_type": "code",
      "execution_count": null,
      "metadata": {
        "id": "Ye2epscM5rfI"
      },
      "outputs": [],
      "source": [
        "# TF = (frequency of a words in the document)/ (total number of words in the document)\n",
        "\n",
        "# IDF = log((Total number of  documents)/number of docs containing the word))"
      ]
    },
    {
      "cell_type": "code",
      "execution_count": null,
      "metadata": {
        "id": "anUNLSd15rfI"
      },
      "outputs": [],
      "source": [
        "\n",
        "# TF-IDF using Scikit-learn ( it has TfidfVectorizer class to convert text to TF-IDF vectors)\n",
        "from nltk.corpus import stopwords\n",
        "from sklearn.feature_extraction.text import CountVectorizer\n",
        "\n",
        "vectorizer=CountVectorizer(max_features=2500,min_df=7,max_df=0.8,stop_words=stopwords.words('english'))\n",
        "#max_features: it uses only 2500 most frequently occuring words to create a bag of words feature vector\n",
        "#max_df : use words that occurs in 80% of the documnets\n",
        "#min_df : use words that occur in atleast 7 of the documents\n",
        "\n",
        "processed_features= vectorizer.fit_transform(processed_features).toarray()\n"
      ]
    },
    {
      "cell_type": "code",
      "execution_count": null,
      "metadata": {
        "id": "caSNwRJV5rfI"
      },
      "outputs": [],
      "source": [
        "# dividing data into training and testing data"
      ]
    },
    {
      "cell_type": "code",
      "execution_count": null,
      "metadata": {
        "id": "265r8igJ5rfU"
      },
      "outputs": [],
      "source": [
        "from sklearn.model_selection import train_test_split\n",
        "X_train, X_test, y_train, y_test = train_test_split(processed_features, labels, test_size=0.2, random_state=0)"
      ]
    },
    {
      "cell_type": "code",
      "execution_count": null,
      "metadata": {
        "id": "6NRWbolh5rfV",
        "outputId": "2f9d350c-a096-4906-fcea-c55fbaf1950c"
      },
      "outputs": [
        {
          "data": {
            "text/plain": [
              "RandomForestClassifier(bootstrap=True, class_weight=None, criterion='gini',\n",
              "                       max_depth=None, max_features='auto', max_leaf_nodes=None,\n",
              "                       min_impurity_decrease=0.0, min_impurity_split=None,\n",
              "                       min_samples_leaf=1, min_samples_split=2,\n",
              "                       min_weight_fraction_leaf=0.0, n_estimators=100,\n",
              "                       n_jobs=None, oob_score=False, random_state=42, verbose=0,\n",
              "                       warm_start=False)"
            ]
          },
          "execution_count": 37,
          "metadata": {},
          "output_type": "execute_result"
        }
      ],
      "source": [
        "# Training the model with RandomForestClassifier (as it can act on normalized data)\n",
        "from sklearn.ensemble import RandomForestClassifier\n",
        "\n",
        "text_classifier = RandomForestClassifier(n_estimators=100,random_state=42)\n",
        "text_classifier.fit(X_train,y_train)"
      ]
    },
    {
      "cell_type": "code",
      "execution_count": null,
      "metadata": {
        "id": "RXLunMpu5rfV",
        "outputId": "34a8b120-9d94-4384-fb9c-cfba0b719ec5"
      },
      "outputs": [
        {
          "name": "stdout",
          "output_type": "stream",
          "text": [
            "['negative' 'neutral' 'negative' ... 'negative' 'negative' 'negative']\n"
          ]
        }
      ],
      "source": [
        "# Making predictions and evaluating the model\n",
        "predictions=text_classifier.predict(X_test)\n",
        "print(predictions)"
      ]
    },
    {
      "cell_type": "code",
      "execution_count": null,
      "metadata": {
        "id": "EGISSfnR5rfV",
        "outputId": "740ccadf-e2f3-4ce8-f228-d731eb57a250"
      },
      "outputs": [
        {
          "name": "stdout",
          "output_type": "stream",
          "text": [
            "[[1627  175   68]\n",
            " [ 242  319   53]\n",
            " [  95   82  267]]\n",
            "              precision    recall  f1-score   support\n",
            "\n",
            "    negative       0.83      0.87      0.85      1870\n",
            "     neutral       0.55      0.52      0.54       614\n",
            "    positive       0.69      0.60      0.64       444\n",
            "\n",
            "    accuracy                           0.76      2928\n",
            "   macro avg       0.69      0.66      0.68      2928\n",
            "weighted avg       0.75      0.76      0.75      2928\n",
            "\n",
            "0.7558060109289617\n"
          ]
        }
      ],
      "source": [
        "from sklearn.metrics import classification_report, confusion_matrix, accuracy_score\n",
        "print(confusion_matrix(y_test,predictions))\n",
        "print(classification_report(y_test,predictions))\n",
        "print(accuracy_score(y_test, predictions))"
      ]
    },
    {
      "cell_type": "code",
      "execution_count": null,
      "metadata": {
        "id": "bNaM1uk35rfV"
      },
      "outputs": [],
      "source": [
        "# The algorithm achieved an accuracy of 75.58%"
      ]
    },
    {
      "cell_type": "code",
      "execution_count": null,
      "metadata": {
        "id": "_Usq_9P65rfV"
      },
      "outputs": [],
      "source": [
        "from sklearn.svm import SVC\n",
        "svm_classifier = SVC(kernel = 'rbf', random_state = 42,cache_size=400,gamma = 'scale')"
      ]
    },
    {
      "cell_type": "code",
      "execution_count": null,
      "metadata": {
        "id": "cydx9r8K5rfV",
        "outputId": "afe7ca59-4e5a-41d3-ed9a-2b3a53c69f6c"
      },
      "outputs": [
        {
          "name": "stdout",
          "output_type": "stream",
          "text": [
            "[[1728  112   30]\n",
            " [ 288  292   34]\n",
            " [ 127   66  251]]\n",
            "              precision    recall  f1-score   support\n",
            "\n",
            "    negative       0.81      0.92      0.86      1870\n",
            "     neutral       0.62      0.48      0.54       614\n",
            "    positive       0.80      0.57      0.66       444\n",
            "\n",
            "    accuracy                           0.78      2928\n",
            "   macro avg       0.74      0.65      0.69      2928\n",
            "weighted avg       0.77      0.78      0.76      2928\n",
            "\n",
            "0.7756147540983607\n"
          ]
        }
      ],
      "source": [
        "svm_classifier.fit(X_train, y_train)\n",
        "svm_predictions=svm_classifier.predict(X_test)\n",
        "#print(predictions)\n",
        "\n",
        "print(confusion_matrix(y_test,svm_predictions))\n",
        "print(classification_report(y_test,svm_predictions))\n",
        "print(accuracy_score(y_test, svm_predictions))"
      ]
    },
    {
      "cell_type": "code",
      "execution_count": null,
      "metadata": {
        "id": "1F6zytqB5rfW"
      },
      "outputs": [],
      "source": [
        "# The algorithm achieved an accuracy of 77.56 % and is better than random forest with accuracy of 75.58%"
      ]
    },
    {
      "cell_type": "code",
      "execution_count": null,
      "metadata": {
        "id": "zObGqCfj5rfW",
        "outputId": "690bb10f-f416-4fe3-8e6c-432619bea818"
      },
      "outputs": [
        {
          "name": "stderr",
          "output_type": "stream",
          "text": [
            "C:\\Users\\SonyTF\\Anaconda3\\lib\\site-packages\\sklearn\\linear_model\\logistic.py:432: FutureWarning: Default solver will be changed to 'lbfgs' in 0.22. Specify a solver to silence this warning.\n",
            "  FutureWarning)\n",
            "C:\\Users\\SonyTF\\Anaconda3\\lib\\site-packages\\sklearn\\linear_model\\logistic.py:469: FutureWarning: Default multi_class will be changed to 'auto' in 0.22. Specify the multi_class option to silence this warning.\n",
            "  \"this warning.\", FutureWarning)\n"
          ]
        },
        {
          "name": "stdout",
          "output_type": "stream",
          "text": [
            "[[1665  152   53]\n",
            " [ 220  341   53]\n",
            " [  91   56  297]]\n",
            "              precision    recall  f1-score   support\n",
            "\n",
            "    negative       0.84      0.89      0.87      1870\n",
            "     neutral       0.62      0.56      0.59       614\n",
            "    positive       0.74      0.67      0.70       444\n",
            "\n",
            "    accuracy                           0.79      2928\n",
            "   macro avg       0.73      0.70      0.72      2928\n",
            "weighted avg       0.78      0.79      0.78      2928\n",
            "\n",
            "0.7865437158469946\n"
          ]
        }
      ],
      "source": [
        "from sklearn.linear_model import LogisticRegression\n",
        "log_classifier = LogisticRegression(random_state = 42)\n",
        "log_classifier.fit(X_train, y_train)\n",
        "\n",
        "# Predicting the Test set results\n",
        "log_predictions = log_classifier.predict(X_test)\n",
        "\n",
        "# Making the Confusion Matrix\n",
        "\n",
        "print(confusion_matrix(y_test,log_predictions))\n",
        "print(classification_report(y_test,log_predictions))\n",
        "print(accuracy_score(y_test, log_predictions))"
      ]
    },
    {
      "cell_type": "code",
      "execution_count": null,
      "metadata": {
        "id": "Pn8w4aA15rfW"
      },
      "outputs": [],
      "source": [
        "# The algorithm achieved an accuracy of 78.65 % and is still better than  the obove two"
      ]
    },
    {
      "cell_type": "code",
      "execution_count": null,
      "metadata": {
        "id": "57vY20X_5rfW"
      },
      "outputs": [],
      "source": [
        "from sklearn.neighbors import KNeighborsClassifier\n",
        "knn_classifier=KNeighborsClassifier(n_neighbors=5,metric='minkowski', p=2)\n"
      ]
    },
    {
      "cell_type": "code",
      "execution_count": null,
      "metadata": {
        "id": "rCEsDFEk5rfW",
        "outputId": "19d35865-bdce-4c29-ffb5-d6a3050fd26d"
      },
      "outputs": [
        {
          "name": "stdout",
          "output_type": "stream",
          "text": [
            "[[1665  152   53]\n",
            " [ 220  341   53]\n",
            " [  91   56  297]]\n",
            "              precision    recall  f1-score   support\n",
            "\n",
            "    negative       0.84      0.89      0.87      1870\n",
            "     neutral       0.62      0.56      0.59       614\n",
            "    positive       0.74      0.67      0.70       444\n",
            "\n",
            "    accuracy                           0.79      2928\n",
            "   macro avg       0.73      0.70      0.72      2928\n",
            "weighted avg       0.78      0.79      0.78      2928\n",
            "\n",
            "0.7865437158469946\n"
          ]
        }
      ],
      "source": [
        "knn_classifier.fit(X_train,y_train)\n",
        "\n",
        "knn_predictions=knn_classifier.predict(X_test)\n",
        "print(confusion_matrix(y_test,log_predictions))\n",
        "print(classification_report(y_test,log_predictions))\n",
        "print(accuracy_score(y_test, log_predictions))"
      ]
    },
    {
      "cell_type": "code",
      "execution_count": null,
      "metadata": {
        "id": "CSaCVWn15rfW"
      },
      "outputs": [],
      "source": []
    }
  ],
  "metadata": {
    "kernelspec": {
      "display_name": "Python 3",
      "language": "python",
      "name": "python3"
    },
    "language_info": {
      "codemirror_mode": {
        "name": "ipython",
        "version": 3
      },
      "file_extension": ".py",
      "mimetype": "text/x-python",
      "name": "python",
      "nbconvert_exporter": "python",
      "pygments_lexer": "ipython3",
      "version": "3.7.3"
    },
    "colab": {
      "provenance": []
    }
  },
  "nbformat": 4,
  "nbformat_minor": 0
}